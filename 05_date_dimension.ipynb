{
 "cells": [
  {
   "cell_type": "markdown",
   "metadata": {},
   "source": [
    "## Create Date Dimension Table"
   ]
  },
  {
   "cell_type": "code",
   "execution_count": 7,
   "metadata": {},
   "outputs": [],
   "source": [
    "# A date dimension table is a specialized table in a data warehouse that\n",
    "# stores detailed information about dates. It serves as a centralized\n",
    "# reference for all time-related data, enabling efficient organization,\n",
    "# analysis, and reporting of temporal information.\n",
    "# It can consist columns such as name of the day, name of the month, was it\n",
    "# a weekend (is_weekend), was it a holiday (is_holiday), quarter. For\n",
    "# financial data, fiscal year is also used.\n",
    "#\n"
   ]
  },
  {
   "cell_type": "code",
   "execution_count": 8,
   "metadata": {},
   "outputs": [
    {
     "data": {
      "text/plain": [
       "datetime.datetime(2028, 1, 1, 0, 0)"
      ]
     },
     "execution_count": 8,
     "metadata": {},
     "output_type": "execute_result"
    }
   ],
   "source": [
    "# Import the datetime class from Python’s built-in datetime module.\n",
    "from datetime import datetime\n",
    "\n",
    "# Import data manipulation library Pandas.\n",
    "import pandas as pd\n",
    "\n",
    "# Create a datetime object representing January 1st, 2023,\n",
    "# at midnight (00:00:00)\n",
    "start_date = datetime(2023, 1, 1)\n",
    "# Create a datetime object representing January 1st, 2028,\n",
    "# also at midnight\n",
    "end_date = datetime(2028, 1, 1)\n",
    "end_date\n"
   ]
  },
  {
   "cell_type": "code",
   "execution_count": 9,
   "metadata": {},
   "outputs": [
    {
     "data": {
      "text/html": [
       "<div>\n",
       "<style scoped>\n",
       "    .dataframe tbody tr th:only-of-type {\n",
       "        vertical-align: middle;\n",
       "    }\n",
       "\n",
       "    .dataframe tbody tr th {\n",
       "        vertical-align: top;\n",
       "    }\n",
       "\n",
       "    .dataframe thead th {\n",
       "        text-align: right;\n",
       "    }\n",
       "</style>\n",
       "<table border=\"1\" class=\"dataframe\">\n",
       "  <thead>\n",
       "    <tr style=\"text-align: right;\">\n",
       "      <th></th>\n",
       "      <th>date</th>\n",
       "    </tr>\n",
       "  </thead>\n",
       "  <tbody>\n",
       "    <tr>\n",
       "      <th>0</th>\n",
       "      <td>2023-01-01</td>\n",
       "    </tr>\n",
       "    <tr>\n",
       "      <th>1</th>\n",
       "      <td>2023-01-02</td>\n",
       "    </tr>\n",
       "    <tr>\n",
       "      <th>2</th>\n",
       "      <td>2023-01-03</td>\n",
       "    </tr>\n",
       "    <tr>\n",
       "      <th>3</th>\n",
       "      <td>2023-01-04</td>\n",
       "    </tr>\n",
       "    <tr>\n",
       "      <th>4</th>\n",
       "      <td>2023-01-05</td>\n",
       "    </tr>\n",
       "  </tbody>\n",
       "</table>\n",
       "</div>"
      ],
      "text/plain": [
       "        date\n",
       "0 2023-01-01\n",
       "1 2023-01-02\n",
       "2 2023-01-03\n",
       "3 2023-01-04\n",
       "4 2023-01-05"
      ]
     },
     "execution_count": 9,
     "metadata": {},
     "output_type": "execute_result"
    }
   ],
   "source": [
    "# pd.date_range() - a function from Pandas that creates a sequence of dates\n",
    "# between start_date and end_date. The result is a DatetimeIndex object,\n",
    "# which is great for time series data. By default, the frequency is 'D'\n",
    "# (daily), so this will generate a list of every day from January 1, 2023\n",
    "# to January 1, 2028 inclusive.\n",
    "date_range = pd.date_range(start_date, end_date)\n",
    "# Create a Pandas DataFrame from the date_range with a single column \"date\"\n",
    "date_df = pd.DataFrame(date_range, columns=[\"date\"])\n",
    "# Display date_df head part\n",
    "date_df.head()\n"
   ]
  },
  {
   "cell_type": "code",
   "execution_count": 10,
   "metadata": {},
   "outputs": [
    {
     "data": {
      "text/plain": [
       "0    2023\n",
       "1    2023\n",
       "2    2023\n",
       "3    2023\n",
       "4    2023\n",
       "Name: date, dtype: int32"
      ]
     },
     "execution_count": 10,
     "metadata": {},
     "output_type": "execute_result"
    }
   ],
   "source": [
    "# Access the \"date\" column in DataFrame, than with .dt access datetime\n",
    "# object, than with .year extracts the year from each date in the column,\n",
    "# than with .head() the first 5 values of the result.\n",
    "date_df[\"date\"].dt.year.head()\n"
   ]
  },
  {
   "cell_type": "code",
   "execution_count": 11,
   "metadata": {},
   "outputs": [
    {
     "data": {
      "text/html": [
       "<div>\n",
       "<style scoped>\n",
       "    .dataframe tbody tr th:only-of-type {\n",
       "        vertical-align: middle;\n",
       "    }\n",
       "\n",
       "    .dataframe tbody tr th {\n",
       "        vertical-align: top;\n",
       "    }\n",
       "\n",
       "    .dataframe thead th {\n",
       "        text-align: right;\n",
       "    }\n",
       "</style>\n",
       "<table border=\"1\" class=\"dataframe\">\n",
       "  <thead>\n",
       "    <tr style=\"text-align: right;\">\n",
       "      <th></th>\n",
       "      <th>date</th>\n",
       "      <th>year</th>\n",
       "      <th>month</th>\n",
       "      <th>day</th>\n",
       "      <th>day_of_week</th>\n",
       "      <th>is_weekend</th>\n",
       "    </tr>\n",
       "  </thead>\n",
       "  <tbody>\n",
       "    <tr>\n",
       "      <th>0</th>\n",
       "      <td>2023-01-01</td>\n",
       "      <td>2023</td>\n",
       "      <td>1</td>\n",
       "      <td>1</td>\n",
       "      <td>7</td>\n",
       "      <td>True</td>\n",
       "    </tr>\n",
       "    <tr>\n",
       "      <th>1</th>\n",
       "      <td>2023-01-02</td>\n",
       "      <td>2023</td>\n",
       "      <td>1</td>\n",
       "      <td>2</td>\n",
       "      <td>1</td>\n",
       "      <td>False</td>\n",
       "    </tr>\n",
       "    <tr>\n",
       "      <th>2</th>\n",
       "      <td>2023-01-03</td>\n",
       "      <td>2023</td>\n",
       "      <td>1</td>\n",
       "      <td>3</td>\n",
       "      <td>2</td>\n",
       "      <td>False</td>\n",
       "    </tr>\n",
       "    <tr>\n",
       "      <th>3</th>\n",
       "      <td>2023-01-04</td>\n",
       "      <td>2023</td>\n",
       "      <td>1</td>\n",
       "      <td>4</td>\n",
       "      <td>3</td>\n",
       "      <td>False</td>\n",
       "    </tr>\n",
       "    <tr>\n",
       "      <th>4</th>\n",
       "      <td>2023-01-05</td>\n",
       "      <td>2023</td>\n",
       "      <td>1</td>\n",
       "      <td>5</td>\n",
       "      <td>4</td>\n",
       "      <td>False</td>\n",
       "    </tr>\n",
       "    <tr>\n",
       "      <th>...</th>\n",
       "      <td>...</td>\n",
       "      <td>...</td>\n",
       "      <td>...</td>\n",
       "      <td>...</td>\n",
       "      <td>...</td>\n",
       "      <td>...</td>\n",
       "    </tr>\n",
       "    <tr>\n",
       "      <th>1822</th>\n",
       "      <td>2027-12-28</td>\n",
       "      <td>2027</td>\n",
       "      <td>12</td>\n",
       "      <td>28</td>\n",
       "      <td>2</td>\n",
       "      <td>False</td>\n",
       "    </tr>\n",
       "    <tr>\n",
       "      <th>1823</th>\n",
       "      <td>2027-12-29</td>\n",
       "      <td>2027</td>\n",
       "      <td>12</td>\n",
       "      <td>29</td>\n",
       "      <td>3</td>\n",
       "      <td>False</td>\n",
       "    </tr>\n",
       "    <tr>\n",
       "      <th>1824</th>\n",
       "      <td>2027-12-30</td>\n",
       "      <td>2027</td>\n",
       "      <td>12</td>\n",
       "      <td>30</td>\n",
       "      <td>4</td>\n",
       "      <td>False</td>\n",
       "    </tr>\n",
       "    <tr>\n",
       "      <th>1825</th>\n",
       "      <td>2027-12-31</td>\n",
       "      <td>2027</td>\n",
       "      <td>12</td>\n",
       "      <td>31</td>\n",
       "      <td>5</td>\n",
       "      <td>False</td>\n",
       "    </tr>\n",
       "    <tr>\n",
       "      <th>1826</th>\n",
       "      <td>2028-01-01</td>\n",
       "      <td>2028</td>\n",
       "      <td>1</td>\n",
       "      <td>1</td>\n",
       "      <td>6</td>\n",
       "      <td>True</td>\n",
       "    </tr>\n",
       "  </tbody>\n",
       "</table>\n",
       "<p>1827 rows × 6 columns</p>\n",
       "</div>"
      ],
      "text/plain": [
       "           date  year  month  day  day_of_week  is_weekend\n",
       "0    2023-01-01  2023      1    1            7        True\n",
       "1    2023-01-02  2023      1    2            1       False\n",
       "2    2023-01-03  2023      1    3            2       False\n",
       "3    2023-01-04  2023      1    4            3       False\n",
       "4    2023-01-05  2023      1    5            4       False\n",
       "...         ...   ...    ...  ...          ...         ...\n",
       "1822 2027-12-28  2027     12   28            2       False\n",
       "1823 2027-12-29  2027     12   29            3       False\n",
       "1824 2027-12-30  2027     12   30            4       False\n",
       "1825 2027-12-31  2027     12   31            5       False\n",
       "1826 2028-01-01  2028      1    1            6        True\n",
       "\n",
       "[1827 rows x 6 columns]"
      ]
     },
     "execution_count": 11,
     "metadata": {},
     "output_type": "execute_result"
    }
   ],
   "source": [
    "# date_df - this is a Pandas DataFrame that contains a column named \"date\".\n",
    "# date_df[\"date\"] - selects the \"date\" column from the DataFrame.\n",
    "# .dt - this is the datetime accessor in Pandas. It allows you to perform\n",
    "#       vectorized datetime operations on a Series with datetime-like values.\n",
    "# .year - extracts the year from each datetime object.\n",
    "# date_df[\"year\"] = ... - creates a new column named \"year\" in the DataFrame\n",
    "#        and assigns the extracted year values.\n",
    "date_df[\"year\"] = date_df[\"date\"].dt.year\n",
    "# date_df[\"month\"] = ... - creates a new column named \"month\" in the DataFrame\n",
    "#        and assigns the extracted year values\n",
    "date_df[\"month\"] = date_df[\"date\"].dt.month\n",
    "# date_df[\"day\"] = ... - creates a new column named \"day\" in the DataFrame\n",
    "#        and assigns the extracted year values\n",
    "date_df[\"day\"] = date_df[\"date\"].dt.day\n",
    "# This gets the day of the week from each date and shifts from 0-6 to 1-7\n",
    "date_df[\"day_of_week\"] = date_df[\"date\"].dt.dayofweek + 1\n",
    "# .isin([6, 7]) - check if each value in the \"day_of_week\" column is either 6\n",
    "# or 7 and returns True if the value Saturday or Sunday\n",
    "date_df[\"is_weekend\"] = date_df[\"day_of_week\"].isin([6, 7])\n",
    "date_df\n"
   ]
  },
  {
   "cell_type": "code",
   "execution_count": 12,
   "metadata": {},
   "outputs": [],
   "source": [
    "# Exports DataFrame to a CSV file\n",
    "date_df.to_csv(\"date_dimension.csv\", index=False)\n"
   ]
  }
 ],
 "metadata": {
  "kernelspec": {
   "display_name": "Python 3",
   "language": "python",
   "name": "python3"
  },
  "language_info": {
   "codemirror_mode": {
    "name": "ipython",
    "version": 3
   },
   "file_extension": ".py",
   "mimetype": "text/x-python",
   "name": "python",
   "nbconvert_exporter": "python",
   "pygments_lexer": "ipython3",
   "version": "3.13.0"
  }
 },
 "nbformat": 4,
 "nbformat_minor": 2
}
